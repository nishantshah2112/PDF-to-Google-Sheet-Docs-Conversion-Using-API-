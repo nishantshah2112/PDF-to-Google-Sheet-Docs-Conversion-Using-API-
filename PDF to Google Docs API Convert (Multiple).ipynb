{
 "cells": [
  {
   "cell_type": "code",
   "execution_count": 16,
   "metadata": {},
   "outputs": [
    {
     "name": "stdout",
     "output_type": "stream",
     "text": [
      "Uploaded and shared Google Docs: Assignment Solution - Probability Distributions & Central Limit Theorem (URL: https://docs.google.com/document/d/1-xb5rjMYq9ofL4bvBD6KoPWAtR38Nn6rPZx1wDPxdcM/edit)\n",
      "Document URL: https://docs.google.com/document/d/1-xb5rjMYq9ofL4bvBD6KoPWAtR38Nn6rPZx1wDPxdcM/edit\n",
      "Uploaded and shared Google Docs: Probability Distributions & Central Limit Theorem - Notes (URL: https://docs.google.com/document/d/1fQWM-IzpGIQKIsdBBHo90k6bUQdBxejncY32ufyNvSk/edit)\n",
      "Document URL: https://docs.google.com/document/d/1fQWM-IzpGIQKIsdBBHo90k6bUQdBxejncY32ufyNvSk/edit\n"
     ]
    }
   ],
   "source": [
    "import os\n",
    "import pdfplumber\n",
    "from googleapiclient.discovery import build\n",
    "from google.oauth2.service_account import Credentials\n",
    "\n",
    "def extract_text_from_pdf(pdf_path):\n",
    "    \"\"\"\n",
    "    Extracts text from a PDF file.\n",
    "    \"\"\"\n",
    "    with pdfplumber.open(pdf_path) as pdf:\n",
    "        text = \"\"\n",
    "        for page in pdf.pages:\n",
    "            text += page.extract_text() + \"\\n\"\n",
    "    return text\n",
    "\n",
    "def upload_text_to_google_docs(doc_name, text_content, creds_path):\n",
    "    \"\"\"\n",
    "    Uploads text content to Google Docs as a new document and sets sharing permissions.\n",
    "    \"\"\"\n",
    "    # Authenticate and initialize APIs\n",
    "    credentials = Credentials.from_service_account_file(\n",
    "        creds_path, scopes=[\"https://www.googleapis.com/auth/drive\"]\n",
    "    )\n",
    "    docs_service = build(\"docs\", \"v1\", credentials=credentials)\n",
    "    drive_service = build(\"drive\", \"v3\", credentials=credentials)\n",
    "\n",
    "    # Create a new Google Doc\n",
    "    body = {\"title\": doc_name}\n",
    "    doc = docs_service.documents().create(body=body).execute()\n",
    "    doc_id = doc.get(\"documentId\")\n",
    "\n",
    "    # Append content to the document\n",
    "    requests = [{\"insertText\": {\"location\": {\"index\": 1}, \"text\": text_content}}]\n",
    "    docs_service.documents().batchUpdate(documentId=doc_id, body={\"requests\": requests}).execute()\n",
    "\n",
    "    # Set permissions to make the document accessible\n",
    "    permission_body = {\n",
    "        \"role\": \"reader\",  # Options: 'reader', 'writer'\n",
    "        \"type\": \"anyone\",  # Options: 'user', 'group', 'domain', 'anyone'\n",
    "    }\n",
    "    drive_service.permissions().create(\n",
    "        fileId=doc_id, body=permission_body, fields=\"id\"\n",
    "    ).execute()\n",
    "\n",
    "    # Construct the URL\n",
    "    doc_url = f\"https://docs.google.com/document/d/{doc_id}/edit\"\n",
    "    print(f\"Uploaded and shared Google Docs: {doc_name} (URL: {doc_url})\")\n",
    "    return doc_url\n",
    "\n",
    "def process_pdfs_in_folder(folder_path, creds_path):\n",
    "    \"\"\"\n",
    "    Processes all PDFs in a folder and uploads their text content to Google Docs.\n",
    "    \"\"\"\n",
    "    for file_name in os.listdir(folder_path):\n",
    "        if file_name.endswith('.pdf'):\n",
    "            pdf_path = os.path.join(folder_path, file_name)\n",
    "            doc_name = os.path.splitext(file_name)[0]\n",
    "\n",
    "            # Extract text from the PDF\n",
    "            text_content = extract_text_from_pdf(pdf_path)\n",
    "\n",
    "            # Upload to Google Docs and get the URL\n",
    "            doc_url = upload_text_to_google_docs(doc_name, text_content, creds_path)\n",
    "            print(f\"Document URL: {doc_url}\")\n",
    "\n",
    "if __name__ == \"__main__\":\n",
    "    # Define folder path and credentials JSON path\n",
    "    folder_path = r\"C:\\NISHANT\\Skill Academy\\Statistics\\Probability Distributions & Central Limit Theorem\\Probability Distributions & Central Limit Theorem\"  # Replace with your folder path\n",
    "    creds_path = r\"C:\\Users\\Nishant shah\\OneDrive\\Desktop\\Numpy\\subtle-reserve-441716-r6-6e49d5b4ced4.json\"  # Replace with your JSON credentials file path\n",
    "\n",
    "    process_pdfs_in_folder(folder_path, creds_path)\n"
   ]
  },
  {
   "cell_type": "code",
   "execution_count": null,
   "metadata": {},
   "outputs": [],
   "source": []
  }
 ],
 "metadata": {
  "kernelspec": {
   "display_name": "myenv",
   "language": "python",
   "name": "python3"
  },
  "language_info": {
   "codemirror_mode": {
    "name": "ipython",
    "version": 3
   },
   "file_extension": ".py",
   "mimetype": "text/x-python",
   "name": "python",
   "nbconvert_exporter": "python",
   "pygments_lexer": "ipython3",
   "version": "3.13.0"
  }
 },
 "nbformat": 4,
 "nbformat_minor": 2
}
