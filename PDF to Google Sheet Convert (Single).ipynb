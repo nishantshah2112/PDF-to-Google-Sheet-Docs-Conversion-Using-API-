{
 "cells": [
  {
   "cell_type": "code",
   "execution_count": 4,
   "metadata": {},
   "outputs": [],
   "source": [
    "import gspread\n",
    "import pdfplumber\n",
    "import pandas as pd\n",
    "from oauth2client.service_account import ServiceAccountCredentials"
   ]
  },
  {
   "cell_type": "code",
   "execution_count": 7,
   "metadata": {},
   "outputs": [
    {
     "name": "stdout",
     "output_type": "stream",
     "text": [
      "Data uploaded successfully!\n"
     ]
    }
   ],
   "source": [
    "# Function to extract data from pdf\n",
    "def extract_data_from_pdf(pdf_path):\n",
    "    extracted_data =[]\n",
    "    with pdfplumber.open(pdf_path) as pdf:\n",
    "        for page in pdf.pages:\n",
    "            text = page.extract_text()\n",
    "            if text:\n",
    "                extracted_data.append(text)\n",
    "    return extracted_data\n",
    "\n",
    "# Function to upload data to Google Sheet\n",
    "def  upload_to_google_sheet(data,spreadsheet_id,creds_json):\n",
    "    # Authorize the client\n",
    "    scope = [\n",
    "        \"https://spreadsheets.google.com/feeds\",\n",
    "        \"https://www.googleapis.com/auth/drive\"\n",
    "    ]\n",
    "    creds = ServiceAccountCredentials.from_json_keyfile_name(creds_json,scope)\n",
    "    client = gspread.authorize(creds)\n",
    "    \n",
    "    # Open Google Sheet by ID\n",
    "    sheet = client.open_by_key(spreadsheet_id)\n",
    "    worksheet =sheet.get_worksheet(0)\n",
    "    \n",
    "    # Format the data into a table_like structure for uploading\n",
    "    df = pd.DataFrame({'Extarcted Data' : data})\n",
    "    \n",
    "    # Update the sheet with extracted data\n",
    "    worksheet.update([df.columns.values.tolist()]+df.values.tolist())\n",
    "    print(\"Data uploaded successfully!\")\n",
    "    \n",
    "# Main Execution\n",
    "if __name__ == \"__main__\":\n",
    "    # Provide the paths\n",
    "    pdf_path = r\"C:\\NISHANT\\Skill Academy\\Statistics\\Probability Distributions & Central Limit Theorem\\Normal Distribution\\Normal Distribution - Notes.pdf\"\n",
    "    creds_json = r\"C:\\Users\\Nishant shah\\OneDrive\\Desktop\\Numpy\\subtle-reserve-441716-r6-6e49d5b4ced4.json\"\n",
    "    \n",
    "    # Google Sheet Id\n",
    "    spreadsheet_id = '1XHHk7PyxbOyN-qpRkQ499348U7lz4RjA_h0T3oICe_Q'\n",
    "    \n",
    "    # Extract and upload data\n",
    "    extracted_data = extract_data_from_pdf(pdf_path)\n",
    "    if extracted_data:\n",
    "        upload_to_google_sheet(extracted_data,spreadsheet_id,creds_json)\n",
    "    else:\n",
    "        print(\"No data found in the pdf\")\n",
    "    "
   ]
  },
  {
   "cell_type": "code",
   "execution_count": null,
   "metadata": {},
   "outputs": [],
   "source": []
  },
  {
   "cell_type": "code",
   "execution_count": null,
   "metadata": {},
   "outputs": [],
   "source": []
  }
 ],
 "metadata": {
  "kernelspec": {
   "display_name": "myenv",
   "language": "python",
   "name": "python3"
  },
  "language_info": {
   "codemirror_mode": {
    "name": "ipython",
    "version": 3
   },
   "file_extension": ".py",
   "mimetype": "text/x-python",
   "name": "python",
   "nbconvert_exporter": "python",
   "pygments_lexer": "ipython3",
   "version": "3.13.0"
  }
 },
 "nbformat": 4,
 "nbformat_minor": 2
}
